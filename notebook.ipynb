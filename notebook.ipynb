{
 "cells": [
  {
   "cell_type": "markdown",
   "metadata": {
    "editable": true,
    "slideshow": {
     "slide_type": ""
    },
    "tags": []
   },
   "source": [
    "<center>\n",
    "    <img src=\"https://cf-courses-data.s3.us.cloud-object-storage.appdomain.cloud/IBMDeveloperSkillsNetwork-DS0105EN-SkillsNetwork/labs/Module2/images/SN_web_lightmode.png\" width=\"300\" alt=\"cognitiveclass.ai logo\">\n",
    "</center>\n"
   ]
  },
  {
   "cell_type": "markdown",
   "metadata": {},
   "source": [
    "LABORATORIO DE IBM NOTEBOOK"
   ]
  },
  {
   "cell_type": "markdown",
   "metadata": {},
   "source": [
    "INTRODUCCION\n",
    "En este notebook es dedicado para ver las principales funciones de un notebook como tipos de celdas y algunos conceptos basicos de ciencia de datos y python"
   ]
  },
  {
   "cell_type": "markdown",
   "metadata": {},
   "source": [
    "Los principales lenguajes para la ciencia de datos son:\n",
    "\n",
    "\n",
    "-Python\n",
    "\n",
    "\n",
    "-Javascript\n",
    "\n",
    "\n",
    "-SQL\n",
    "\n",
    "\n",
    "-Julia\n",
    "\n",
    "\n",
    "-C++"
   ]
  },
  {
   "cell_type": "markdown",
   "metadata": {},
   "source": [
    "Biblitecas de ciencia de datos:\n",
    "\n",
    "-Pandas\n",
    "\n",
    "-Numpy\n",
    "\n",
    "-Sklearn\n",
    "\n",
    "-Tensorflow\n",
    "\n",
    "-Pyspark\n",
    "\n",
    "entre otras\n"
   ]
  },
  {
   "cell_type": "markdown",
   "metadata": {},
   "source": [
    "Herramientas para la ciencia de datos:\n",
    "\n",
    "-Anaconda\n",
    "\n",
    "-Bases de datos relacionales\n",
    "\n",
    "-Lenguajes de programacion\n",
    "\n",
    "-Notebooks\n"
   ]
  },
  {
   "cell_type": "markdown",
   "metadata": {},
   "source": [
    "Ejemplos de expresiones artimeticas:\n",
    "\n",
    "Suma: reslut = 1 + 1\n",
    "\n",
    "Resta: result = 1 - 1\n",
    "\n",
    "Prducto: result = 5 * 5\n",
    "\n",
    "Division: result = 10 / 2\n",
    "\n",
    "Potencia: result = 2 ** 2\n",
    "\n",
    "No es igual: 1 <> 2\n",
    "\n",
    "Igualdad 1 == 1\n",
    "\n",
    "\n"
   ]
  },
  {
   "cell_type": "code",
   "execution_count": 6,
   "metadata": {},
   "outputs": [
    {
     "name": "stdout",
     "output_type": "stream",
     "text": [
      "Resultado de la operacion producto \n",
      "400\n",
      "Resultado de la operacion suma \n",
      "40\n"
     ]
    }
   ],
   "source": [
    "operacion_producto= 20 * 20\n",
    "operacion_suma = 20 + 20\n",
    "print(\"Resultado de la operacion producto \")\n",
    "print(operacion_producto)\n",
    "print(\"Resultado de la operacion suma \")\n",
    "print(operacion_suma)\n"
   ]
  },
  {
   "cell_type": "code",
   "execution_count": 7,
   "metadata": {},
   "outputs": [
    {
     "name": "stdout",
     "output_type": "stream",
     "text": [
      "90 minutos son 1 horas y 30 minutos.\n"
     ]
    }
   ],
   "source": [
    "total_minutos = 90 \n",
    "horas = total_minutos // 60\n",
    "minutos_restantes = total_minutos % 60\n",
    "print(f\"{total_minutos} minutos son {horas} horas y {minutos_restantes} minutos.\")"
   ]
  },
  {
   "cell_type": "code",
   "execution_count": 8,
   "metadata": {},
   "outputs": [
    {
     "name": "stdout",
     "output_type": "stream",
     "text": [
      "['Mejorar habilidades tecnicas', 'Completar en tiempo y forma el curso', 'Explorar más herramientas']\n"
     ]
    }
   ],
   "source": [
    "Objetivos=[\"Mejorar habilidades tecnicas\",\"Completar en tiempo y forma el curso\", \"Explorar más herramientas\"]\n",
    "print(Objetivos)"
   ]
  },
  {
   "cell_type": "markdown",
   "metadata": {},
   "source": [
    "Autor: CARLOS MADRIGAL"
   ]
  }
 ],
 "metadata": {
  "kernelspec": {
   "display_name": "Python 3 (ipykernel)",
   "language": "python",
   "name": "python3"
  },
  "language_info": {
   "codemirror_mode": {
    "name": "ipython",
    "version": 3
   },
   "file_extension": ".py",
   "mimetype": "text/x-python",
   "name": "python",
   "nbconvert_exporter": "python",
   "pygments_lexer": "ipython3",
   "version": "3.12.8"
  }
 },
 "nbformat": 4,
 "nbformat_minor": 4
}
